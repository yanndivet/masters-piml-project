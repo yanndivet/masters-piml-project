{
 "cells": [
  {
   "cell_type": "markdown",
   "id": "293c9049",
   "metadata": {},
   "source": [
    "# Imports and definitions"
   ]
  },
  {
   "cell_type": "code",
   "execution_count": 1,
   "id": "8302caa2",
   "metadata": {},
   "outputs": [],
   "source": [
    "import jax\n",
    "import jax.numpy as jnp\n",
    "from jax import grad, jit, random\n",
    "from functools import partial\n",
    "import optax\n",
    "import matplotlib.pyplot as plt\n",
    "\n",
    "from numerical_integrators import leap_frog_harmonic_oscillator\n",
    "from jx_pot import sliced_wasserstein_distance_CDiag\n",
    "\n",
    "import import_ipynb\n",
    "import FINAL_Data_Generation as data_gen"
   ]
  },
  {
   "cell_type": "code",
   "execution_count": 2,
   "id": "bc438573",
   "metadata": {},
   "outputs": [],
   "source": [
    "LAMBDA_REG = 0.1"
   ]
  },
  {
   "cell_type": "code",
   "execution_count": 25,
   "id": "6fd37c92",
   "metadata": {},
   "outputs": [
    {
     "name": "stdout",
     "output_type": "stream",
     "text": [
      "[ 0.6931472  1.7917595  0.        -1.3217558 -0.9162907 -1.0296193]\n"
     ]
    }
   ],
   "source": [
    "ALPHA_TRUE = jnp.array([data_gen.MU_TARGET, jnp.log(data_gen.TAU_MAP)])\n",
    "ALPHA_PHI = jnp.concatenate([data_gen.MU_PHI, jnp.log(data_gen.TAU_PHI_MAP)])"
   ]
  },
  {
   "cell_type": "code",
   "execution_count": 5,
   "id": "f1cecbb3",
   "metadata": {},
   "outputs": [
    {
     "data": {
      "text/plain": [
       "Array([[1.9902518 , 1.9248587 , 1.9184332 , 1.9450139 , 1.9086748 ,\n",
       "        1.8405888 , 1.8068295 , 1.8218379 , 1.7758108 , 1.8066919 ,\n",
       "        1.7111119 , 1.654546  , 1.6842153 , 1.6615462 , 1.5382918 ,\n",
       "        1.4691916 , 1.5370142 , 1.5917947 , 1.5123758 , 1.4880695 ,\n",
       "        1.4265585 , 1.4334753 , 1.4557508 , 1.3556144 , 1.258726  ,\n",
       "        1.4008838 , 1.2735006 , 1.2836605 , 1.1904333 , 1.1640927 ,\n",
       "        1.24054   , 1.213093  , 1.1714345 , 1.1459193 , 1.1441957 ,\n",
       "        1.1173106 , 1.0870682 , 1.1290278 , 1.1379956 , 1.0519263 ,\n",
       "        0.9684204 , 0.9921023 , 1.0164814 , 1.0086647 , 0.89739203,\n",
       "        0.91374016, 0.84245306, 0.89235   , 0.83788896, 0.8467267 ],\n",
       "       [1.961783  , 2.069918  , 2.0100641 , 1.9775637 , 2.0223405 ,\n",
       "        1.9965476 , 2.0366576 , 2.058195  , 1.9210925 , 1.8751935 ,\n",
       "        1.9799551 , 1.9204594 , 1.8449118 , 1.877304  , 1.8960203 ,\n",
       "        1.910673  , 1.8432211 , 1.8735038 , 1.8524454 , 1.6835542 ,\n",
       "        1.7402086 , 1.7689518 , 1.6844764 , 1.6410517 , 1.6606547 ,\n",
       "        1.6411688 , 1.6190295 , 1.5336761 , 1.5560404 , 1.6129825 ,\n",
       "        1.4780217 , 1.5825045 , 1.4986515 , 1.4288303 , 1.5087649 ,\n",
       "        1.3222687 , 1.4746453 , 1.3413626 , 1.224472  , 1.2692226 ,\n",
       "        1.2413393 , 1.19221   , 1.2395806 , 1.238579  , 1.2276238 ,\n",
       "        1.1272196 , 1.2029371 , 1.1059152 , 1.0695345 , 1.1313057 ],\n",
       "       [2.0286558 , 2.0049438 , 1.9574579 , 1.8557508 , 1.8673705 ,\n",
       "        1.726003  , 1.8089318 , 1.686006  , 1.7485045 , 1.5166571 ,\n",
       "        1.5577028 , 1.5144024 , 1.4022847 , 1.304576  , 1.35878   ,\n",
       "        1.3283434 , 1.3619164 , 1.2190652 , 1.1548518 , 1.1298951 ,\n",
       "        1.2158257 , 1.1386781 , 1.0724163 , 1.1385008 , 1.0594395 ,\n",
       "        1.0643439 , 0.983194  , 0.9025029 , 0.96030074, 0.9264116 ,\n",
       "        0.851996  , 0.84104323, 0.7531053 , 0.85370773, 0.7758601 ,\n",
       "        0.79110724, 0.76872236, 0.72800857, 0.7708692 , 0.70612   ,\n",
       "        0.6922928 , 0.6026411 , 0.6405068 , 0.6203898 , 0.52206373,\n",
       "        0.5849124 , 0.5806425 , 0.5787367 , 0.55189687, 0.5467325 ],\n",
       "       [1.9140528 , 1.9883415 , 1.9659214 , 1.9996402 , 1.9258741 ,\n",
       "        1.8672919 , 1.9174069 , 1.9299272 , 1.8940098 , 1.922258  ,\n",
       "        1.9227333 , 1.8623977 , 1.8654077 , 1.7432878 , 1.7781739 ,\n",
       "        1.7046627 , 1.6512709 , 1.6505107 , 1.6716324 , 1.5271784 ,\n",
       "        1.5896319 , 1.5998819 , 1.549021  , 1.609543  , 1.5646266 ,\n",
       "        1.4623297 , 1.5211129 , 1.4631281 , 1.4849813 , 1.4355638 ,\n",
       "        1.3719597 , 1.3772105 , 1.4204435 , 1.350386  , 1.2677817 ,\n",
       "        1.3651443 , 1.2311121 , 1.2019162 , 1.1604551 , 1.2902441 ,\n",
       "        1.1875422 , 1.1742226 , 1.149713  , 1.1603978 , 1.2151538 ,\n",
       "        1.1685048 , 1.0949086 , 1.0465966 , 1.0781943 , 1.1144999 ]],      dtype=float32)"
      ]
     },
     "execution_count": 5,
     "metadata": {},
     "output_type": "execute_result"
    }
   ],
   "source": [
    "data_gen.target_observations_from_sampled_params"
   ]
  },
  {
   "cell_type": "markdown",
   "id": "f8b91c47",
   "metadata": {},
   "source": [
    "# Objective function"
   ]
  },
  {
   "cell_type": "code",
   "execution_count": 6,
   "id": "cb80648d",
   "metadata": {},
   "outputs": [],
   "source": [
    "def loss_fn(alpha):\n",
    "    \"\"\"\n",
    "    Compute objective using Sliced-Wasserstein distance with transformed parameters and a regularisation KL-divergence term\n",
    "    \"\"\"\n",
    "    try:\n",
    "        iteration += 1\n",
    "    except:\n",
    "        iteration = 0\n",
    "        \n",
    "    key = random.key(iteration)\n",
    "    param_sample_key, estimate_key, sw_key = random.split(key, 3)\n",
    "    \n",
    "    params = sample_params(param_sample_key, alpha)\n",
    "    \n",
    "    # Generate trajectories\n",
    "    y_estimate = data_gen.noisy_observations_from_parameters(iteration, params, data_gen.OBSERVATION_NOISE)\n",
    "    y_estimates = jnp.tile(y_estimate, (data_gen.number_systems, 1))\n",
    "    \n",
    "    # Compute distance\n",
    "    C = (data_gen.OBSERVATION_NOISE ** 2) * jnp.ones(50)\n",
    "    sw_distance = sliced_wasserstein_distance_CDiag(random.key(iteration+1), y_estimates, data_gen.target_observations_from_sampled_params, C)\n",
    "    return sw_distance\n",
    "    \n",
    "    # Compute regularisation term\n",
    "    kl_divergence = kl_multivariate_gaussians(params)\n",
    "    \n",
    "    return sw_distance + LAMBDA_REG * kl_divergence"
   ]
  },
  {
   "cell_type": "markdown",
   "id": "5c7a876e",
   "metadata": {},
   "source": [
    "## Sample parameters"
   ]
  },
  {
   "cell_type": "code",
   "execution_count": 7,
   "id": "fc370239",
   "metadata": {},
   "outputs": [],
   "source": [
    "def sample_params(sample_key, alpha):\n",
    "    '''\n",
    "    p(z^(n) | alpha) with parameter transformation\n",
    "    '''\n",
    "    m_alpha, C_alpha = alpha[:3], jnp.exp(alpha[3:])\n",
    "    return random.multivariate_normal(\n",
    "        sample_key,\n",
    "        mean=m_alpha,\n",
    "        cov=jnp.diag(C_alpha),\n",
    "    )"
   ]
  },
  {
   "cell_type": "code",
   "execution_count": 8,
   "id": "db7f4cf2",
   "metadata": {},
   "outputs": [],
   "source": [
    "test_key = random.key(31)\n",
    "test_alpa = jnp.array([5., 7., 10., 1., 2., 3.])\n",
    "test_params = sample_params(test_key, test_alpa)"
   ]
  },
  {
   "cell_type": "code",
   "execution_count": 9,
   "id": "3256dc99",
   "metadata": {},
   "outputs": [
    {
     "data": {
      "text/plain": [
       "(50,)"
      ]
     },
     "execution_count": 9,
     "metadata": {},
     "output_type": "execute_result"
    }
   ],
   "source": [
    "y_test = data_gen.noisy_observations_from_parameters(3, test_params, data_gen.OBSERVATION_NOISE)\n",
    "y_test.shape"
   ]
  },
  {
   "cell_type": "code",
   "execution_count": 10,
   "id": "e52a2026",
   "metadata": {},
   "outputs": [
    {
     "data": {
      "text/plain": [
       "(4, 50)"
      ]
     },
     "execution_count": 10,
     "metadata": {},
     "output_type": "execute_result"
    }
   ],
   "source": [
    "y_tests = jnp.tile(y_test, (4, 1))\n",
    "y_tests.shape"
   ]
  },
  {
   "cell_type": "code",
   "execution_count": 11,
   "id": "59725ecb",
   "metadata": {},
   "outputs": [
    {
     "data": {
      "text/plain": [
       "(4, 50)"
      ]
     },
     "execution_count": 11,
     "metadata": {},
     "output_type": "execute_result"
    }
   ],
   "source": [
    "data_gen.target_observations_from_sampled_params.shape"
   ]
  },
  {
   "cell_type": "code",
   "execution_count": 12,
   "id": "e705b4df",
   "metadata": {},
   "outputs": [
    {
     "data": {
      "text/plain": [
       "Array(18.35927, dtype=float32)"
      ]
     },
     "execution_count": 12,
     "metadata": {},
     "output_type": "execute_result"
    }
   ],
   "source": [
    "C = (data_gen.OBSERVATION_NOISE ** 2) * jnp.ones(50)\n",
    "sw_distance = sliced_wasserstein_distance_CDiag(random.key(21), y_tests, data_gen.target_observations_from_sampled_params, C)\n",
    "sw_distance"
   ]
  },
  {
   "cell_type": "markdown",
   "id": "a9eb93e4",
   "metadata": {},
   "source": [
    "# Optimise objective function"
   ]
  },
  {
   "cell_type": "code",
   "execution_count": 26,
   "id": "c6795fc5",
   "metadata": {},
   "outputs": [
    {
     "name": "stdout",
     "output_type": "stream",
     "text": [
      "Loss function at step 0: 4.813715934753418, with real parameters [ 0.48999932  1.9999993   0.40000066 -1.6000007  -1.0999993  -0.6000006 ]\n",
      "Loss function at step 100: 4.404922008514404, with real parameters [ 0.7397204   2.0601144   0.32151186 -1.4579549  -1.251004   -0.6198238 ]\n",
      "Loss function at step 200: 4.404911994934082, with real parameters [ 0.7399579  2.0596259  0.3219291 -1.4578112 -1.2505832 -0.620281 ]\n",
      "Loss function at step 300: 4.404911994934082, with real parameters [ 0.7399546   2.0596285   0.32192793 -1.4578143  -1.250585   -0.62027967]\n",
      "Loss function at step 400: 4.404911994934082, with real parameters [ 0.73995453  2.0596285   0.32192776 -1.4578148  -1.2505846  -0.6202795 ]\n"
     ]
    }
   ],
   "source": [
    "solver = optax.adam(learning_rate=.1)\n",
    "alpha = ALPHA_PHI\n",
    "opt_state = solver.init(alpha)\n",
    "losses = []\n",
    "for iteration in range(1001):\n",
    "    grad = jax.grad(loss_fn)(alpha)\n",
    "    updates, opt_state = solver.update(grad, opt_state, alpha)\n",
    "    alpha = optax.apply_updates(alpha, updates)\n",
    "    losses.append(loss_fn(alpha))\n",
    "    \n",
    "    if iteration % 100 == 0:\n",
    "        print(f'Loss function at step {iteration}: {loss_fn(alpha)}, with real parameters {alpha}')"
   ]
  },
  {
   "cell_type": "code",
   "execution_count": 27,
   "id": "769fa4d4",
   "metadata": {},
   "outputs": [
    {
     "data": {
      "text/plain": [
       "Array([[ 0.6931472,  1.7917595,  0.       ],\n",
       "       [-1.3217558, -0.9162907, -1.0296193]], dtype=float32)"
      ]
     },
     "execution_count": 27,
     "metadata": {},
     "output_type": "execute_result"
    }
   ],
   "source": [
    "ALPHA_TRUE"
   ]
  },
  {
   "cell_type": "code",
   "execution_count": 28,
   "id": "3e408983",
   "metadata": {},
   "outputs": [
    {
     "data": {
      "text/plain": [
       "Array([ 0.73995453,  2.0596285 ,  0.32192776, -1.4578148 , -1.2505846 ,\n",
       "       -0.6202795 ], dtype=float32)"
      ]
     },
     "execution_count": 28,
     "metadata": {},
     "output_type": "execute_result"
    }
   ],
   "source": [
    "alpha"
   ]
  },
  {
   "cell_type": "code",
   "execution_count": 29,
   "id": "e042ddb4",
   "metadata": {},
   "outputs": [
    {
     "data": {
      "text/plain": [
       "Array([[0.73995453, 2.0596285 , 0.32192776],\n",
       "       [0.2327443 , 0.28633735, 0.5377941 ]], dtype=float32)"
      ]
     },
     "execution_count": 29,
     "metadata": {},
     "output_type": "execute_result"
    }
   ],
   "source": [
    "mu_alpha, tau_alpha = alpha[:3], jnp.exp(alpha[3:])\n",
    "final_params = jnp.array([mu_alpha, tau_alpha])\n",
    "final_params"
   ]
  }
 ],
 "metadata": {
  "kernelspec": {
   "display_name": "Python 3 (ipykernel)",
   "language": "python",
   "name": "python3"
  },
  "language_info": {
   "codemirror_mode": {
    "name": "ipython",
    "version": 3
   },
   "file_extension": ".py",
   "mimetype": "text/x-python",
   "name": "python",
   "nbconvert_exporter": "python",
   "pygments_lexer": "ipython3",
   "version": "3.11.5"
  }
 },
 "nbformat": 4,
 "nbformat_minor": 5
}
