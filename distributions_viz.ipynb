{
 "cells": [
  {
   "cell_type": "code",
   "execution_count": 27,
   "id": "174e3d24",
   "metadata": {},
   "outputs": [],
   "source": [
    "import jax.numpy as jnp\n",
    "\n",
    "import constants as cs\n",
    "import distributions as dist\n",
    "import data_generation as data_gen"
   ]
  },
  {
   "cell_type": "code",
   "execution_count": 28,
   "id": "372df09d",
   "metadata": {},
   "outputs": [],
   "source": [
    "import warnings\n",
    "warnings.filterwarnings('ignore')"
   ]
  },
  {
   "cell_type": "markdown",
   "id": "34206c13",
   "metadata": {},
   "source": [
    "# HMC NUTS"
   ]
  },
  {
   "cell_type": "markdown",
   "id": "bc5c7d7e",
   "metadata": {},
   "source": [
    "# Distributions"
   ]
  },
  {
   "cell_type": "code",
   "execution_count": 29,
   "id": "c7d3fd03",
   "metadata": {},
   "outputs": [],
   "source": [
    "mu_test = jnp.array([3., 5.])\n",
    "tau_test = jnp.array([1., 1.])"
   ]
  },
  {
   "cell_type": "code",
   "execution_count": 30,
   "id": "aa75ccd6",
   "metadata": {},
   "outputs": [
    {
     "name": "stdout",
     "output_type": "stream",
     "text": [
      "41.046917\n",
      "1.1642556\n"
     ]
    }
   ],
   "source": [
    "print(dist.log_hyperprior_distribution(mu_test, tau_test))\n",
    "\n",
    "print(dist.log_hyperprior_distribution(cs.MU_TARGET, cs.TAU_MAP))"
   ]
  },
  {
   "cell_type": "markdown",
   "id": "63942845",
   "metadata": {},
   "source": [
    "### Population distribution"
   ]
  },
  {
   "cell_type": "code",
   "execution_count": 31,
   "id": "c3c7f957",
   "metadata": {},
   "outputs": [
    {
     "name": "stdout",
     "output_type": "stream",
     "text": [
      "3.675754\n",
      "3.695754\n",
      "11.675755\n"
     ]
    }
   ],
   "source": [
    "# Test at mean\n",
    "print(dist.log_population_distribution_per_system(mu_test, mu_test, tau_test))\n",
    "\n",
    "# Test slightly away from mean\n",
    "print(dist.log_population_distribution_per_system(mu_test + 0.1, mu_test, tau_test))\n",
    "\n",
    "# Test far from mean\n",
    "print(dist.log_population_distribution_per_system(mu_test + 2.0, mu_test, tau_test))"
   ]
  },
  {
   "cell_type": "code",
   "execution_count": 32,
   "id": "68fc1809",
   "metadata": {},
   "outputs": [
    {
     "data": {
      "text/plain": [
       "Array([ 0.6931472 ,  1.0986123 ,  0.26666668,  0.4       , -0.26494408,\n",
       "       -0.64774513,  0.866302  ,  1.0762669 ,  0.5531392 ,  1.6987464 ,\n",
       "       -1.2735674 ,  2.5712767 ,  1.0363265 ,  1.5410182 ,  1.0663345 ,\n",
       "       -0.3135246 ,  1.2293872 ,  0.70377696, -1.3746014 , -0.6726985 ],      dtype=float32)"
      ]
     },
     "execution_count": 32,
     "metadata": {},
     "output_type": "execute_result"
    }
   ],
   "source": [
    "initial_parameters = jnp.concatenate([cs.MU_PHI, cs.TAU_PHI_MAP, data_gen.all_sampled_params_concat])\n",
    "initial_parameters"
   ]
  },
  {
   "cell_type": "code",
   "execution_count": 33,
   "id": "1064bbbc",
   "metadata": {
    "scrolled": true
   },
   "outputs": [
    {
     "data": {
      "text/plain": [
       "Array(-5692.7905, dtype=float32)"
      ]
     },
     "execution_count": 33,
     "metadata": {},
     "output_type": "execute_result"
    }
   ],
   "source": [
    "dist.log_posterior_distribution(initial_parameters)"
   ]
  },
  {
   "cell_type": "code",
   "execution_count": 34,
   "id": "6762c2ca",
   "metadata": {},
   "outputs": [
    {
     "data": {
      "text/plain": [
       "Array(inf, dtype=float32)"
      ]
     },
     "execution_count": 34,
     "metadata": {},
     "output_type": "execute_result"
    }
   ],
   "source": [
    "random_params = initial_parameters + 1\n",
    "dist.log_posterior_distribution(random_params)"
   ]
  },
  {
   "cell_type": "code",
   "execution_count": 35,
   "id": "b5fce3be",
   "metadata": {},
   "outputs": [
    {
     "data": {
      "text/plain": [
       "Array(nan, dtype=float32)"
      ]
     },
     "execution_count": 35,
     "metadata": {},
     "output_type": "execute_result"
    }
   ],
   "source": [
    "random_params = initial_parameters + 3\n",
    "dist.log_posterior_distribution(random_params)"
   ]
  },
  {
   "cell_type": "code",
   "execution_count": 36,
   "id": "0b3c527c",
   "metadata": {},
   "outputs": [],
   "source": [
    "# # Add some noise to initial parameters for different chains\n",
    "# noise_scale = 0.1\n",
    "# initial_params_noisy = initial_parameters + random.normal(random.key(0), \n",
    "#                                                         (number_of_chains, len(initial_parameters))) * noise_scale"
   ]
  }
 ],
 "metadata": {
  "kernelspec": {
   "display_name": "env",
   "language": "python",
   "name": "python3"
  },
  "language_info": {
   "codemirror_mode": {
    "name": "ipython",
    "version": 3
   },
   "file_extension": ".py",
   "mimetype": "text/x-python",
   "name": "python",
   "nbconvert_exporter": "python",
   "pygments_lexer": "ipython3",
   "version": "3.10.16"
  }
 },
 "nbformat": 4,
 "nbformat_minor": 5
}
